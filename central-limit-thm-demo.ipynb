{
 "cells": [
  {
   "cell_type": "code",
   "execution_count": null,
   "metadata": {},
   "outputs": [],
   "source": [
    "%matplotlib inline\n",
    "import matplotlib.pyplot as plt\n",
    "import numpy as np"
   ]
  },
  {
   "cell_type": "markdown",
   "metadata": {},
   "source": [
    "set up series of random distributions\n",
    "CLT states that4 random processessx, if measure mean of indep. random variates the distrubution of the means of those distrib. will be gaussianly distributed. this result is indep of the character of the random distrub. can show by using collection of uniform random variates, measuring the means many times"
   ]
  },
  {
   "cell_type": "code",
   "execution_count": null,
   "metadata": {},
   "outputs": [],
   "source": [
    "n_exp = 10000  ##of experiments\n",
    "n_draw = 10 #number ofrandom variates per experiment\n",
    "n_bins = 100 ## of bins in histogram of the uniform variate means\n",
    "x_min = 0.15 #min histogram range\n",
    "x_max = 0.85\n",
    "\n",
    "means = np.zeros(n_exp) #means from each experiment"
   ]
  },
  {
   "cell_type": "markdown",
   "metadata": {},
   "source": [
    "perform experiment"
   ]
  },
  {
   "cell_type": "code",
   "execution_count": null,
   "metadata": {},
   "outputs": [],
   "source": [
    "#loop over # of experiments\n",
    "for i in range(n_exp):\n",
    "    #pull 10 random variates from the uniform distrub.\n",
    "    z = np.random.uniform(0.,1.,n_draw)\n",
    "    #record mean\n",
    "    means[i]= np.mean(z)"
   ]
  },
  {
   "cell_type": "markdown",
   "metadata": {},
   "source": [
    "define fxn to plot gaussian"
   ]
  },
  {
   "cell_type": "code",
   "execution_count": null,
   "metadata": {},
   "outputs": [],
   "source": [
    "def gaussian(x,mu,sigma):\n",
    "    return 1./(2.0*np.pi*sigma**2)**0.5 * np.exp(-0.5*((x-mu)/sigma)**2)"
   ]
  },
  {
   "cell_type": "markdown",
   "metadata": {},
   "source": [
    "histogram the means and plot them"
   ]
  },
  {
   "cell_type": "code",
   "execution_count": null,
   "metadata": {},
   "outputs": [],
   "source": [
    "fig = plt.figure(figsize=(7,7))\n",
    "y_hist, x_hist, ignored = plt.hist(means, bins=n_bins, range=[x_min,x_max], density=True)\n",
    "xx = np.linspace(x_min,x_max,1000)\n",
    "\n",
    "#set RMS of gaussian\n",
    "sigma = 1./12.**0.5 /10.**0.5\n",
    "\n",
    "plt.plot(xx,gaussian(xx,0.5,sigma), color=\"red\")\n",
    "plt.ylim([0,1.1*gaussian(0.5,0.5,sigma)])\n",
    "plt.xlim([x_min,x_max])\n",
    "plt.xlabel('x')\n",
    "plt.ylabel('y(x)')\n",
    "plt.show()"
   ]
  },
  {
   "cell_type": "code",
   "execution_count": null,
   "metadata": {},
   "outputs": [],
   "source": []
  }
 ],
 "metadata": {
  "kernelspec": {
   "display_name": "Python 3",
   "language": "python",
   "name": "python3"
  },
  "language_info": {
   "codemirror_mode": {
    "name": "ipython",
    "version": 3
   },
   "file_extension": ".py",
   "mimetype": "text/x-python",
   "name": "python",
   "nbconvert_exporter": "python",
   "pygments_lexer": "ipython3",
   "version": "3.6.5"
  }
 },
 "nbformat": 4,
 "nbformat_minor": 2
}
